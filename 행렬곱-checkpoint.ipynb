{
 "cells": [
  {
   "cell_type": "code",
   "execution_count": 6,
   "metadata": {},
   "outputs": [
    {
     "name": "stdout",
     "output_type": "stream",
     "text": [
      "33에러\n",
      "[[ 3  4  5]\n",
      " [ 9 14 19]]\n",
      "32에러\n",
      "[[ 2  3]\n",
      " [ 6 11]]\n"
     ]
    }
   ],
   "source": [
    "import numpy as np\n",
    "\n",
    "a = np.arange(0,4).reshape(2,2)\n",
    "b = np.arange(0,9).reshape(3,3)\n",
    "try:\n",
    "    print(a @ b)\n",
    "except:\n",
    "    print(\"33에러\")\n",
    "b = np.arange(0,6).reshape(2,3)\n",
    "try:\n",
    "    print(a @ b)\n",
    "except:\n",
    "    print(\"23에러\")\n",
    "b = np.arange(0,6).reshape(3,2)\n",
    "try:\n",
    "    print(a @ b)\n",
    "except:\n",
    "    print(\"32에러\")\n",
    "b = np.arange(0,4).reshape(2,2)\n",
    "try:\n",
    "    print(a @ b)\n",
    "except:\n",
    "    print(\"22에러\")\n"
   ]
  },
  {
   "cell_type": "code",
   "execution_count": null,
   "metadata": {},
   "outputs": [],
   "source": []
  }
 ],
 "metadata": {
  "kernelspec": {
   "display_name": "Python 3",
   "language": "python",
   "name": "python3"
  },
  "language_info": {
   "codemirror_mode": {
    "name": "ipython",
    "version": 3
   },
   "file_extension": ".py",
   "mimetype": "text/x-python",
   "name": "python",
   "nbconvert_exporter": "python",
   "pygments_lexer": "ipython3",
   "version": "3.8.3"
  }
 },
 "nbformat": 4,
 "nbformat_minor": 4
}
